{
  "cells": [
    {
      "cell_type": "markdown",
      "metadata": {
        "id": "x3lVhGjMDPtG"
      },
      "source": [
        "<h2><b>Sequential Models</h2>"
      ]
    },
    {
      "cell_type": "markdown",
      "metadata": {
        "id": "ts1uNV_1Dk1E"
      },
      "source": [
        "<h4><i>Importing libraries</h4>"
      ]
    },
    {
      "cell_type": "code",
      "execution_count": 206,
      "metadata": {
        "id": "SmpZsg5PDkYi"
      },
      "outputs": [],
      "source": [
        "import numpy as np, pandas as pd\n",
        "from matplotlib import pyplot as plt\n",
        "import seaborn as sns\n",
        "from scipy.optimize import minimize\n",
        "import scipy.stats as stats\n",
        "import pymc3 as pm3\n",
        "import numdifftools as ndt\n",
        "import statsmodels.api as sm\n",
        "from statsmodels.base.model import GenericLikelihoodModel\n",
        "from filterpy.kalman import ExtendedKalmanFilter\n",
        "from filterpy.common import Q_discrete_white_noise\n",
        "\n",
        "%matplotlib inline"
      ]
    },
    {
      "cell_type": "markdown",
      "metadata": {
        "id": "LdTj3sCzDPxz"
      },
      "source": [
        "<h3><b>1. Least Squares and Cross Validation</h3>"
      ]
    },
    {
      "cell_type": "markdown",
      "metadata": {},
      "source": [
        "<h4><i>Generate data</h4>"
      ]
    },
    {
      "cell_type": "code",
      "execution_count": 207,
      "metadata": {
        "id": "HvBa9Ug8BHYb"
      },
      "outputs": [],
      "source": [
        "N = 100\n",
        "sigma2 = 0.2\n",
        "ϵ = np.random.normal(0, sigma2, N)\n",
        "#1 ≤ i ≤ N\n",
        "i = np.arange(1, N+1)\n",
        "x = 2 *np.pi*(i/N)\n",
        "y = np.sin(x) + ϵ\n",
        "\n",
        "data = pd.DataFrame({'x': x, 'y': y})"
      ]
    },
    {
      "cell_type": "code",
      "execution_count": 208,
      "metadata": {
        "id": "mK3WzE28DYYh"
      },
      "outputs": [
        {
          "data": {
            "text/plain": [
              "<AxesSubplot:xlabel='x', ylabel='y'>"
            ]
          },
          "execution_count": 208,
          "metadata": {},
          "output_type": "execute_result"
        },
        {
          "data": {
            "image/png": "[encoded data removed]",
            "text/plain": [
              "<Figure size 432x288 with 1 Axes>"
            ]
          },
          "metadata": {
            "needs_background": "light"
          },
          "output_type": "display_data"
        }
      ],
      "source": [
        "sns.regplot(x='x', y='y', data=data, fit_reg=False)"
      ]
    },
    {
      "cell_type": "markdown",
      "metadata": {},
      "source": [
        "<h5><i>Ordinary Least Square</h4>"
      ]
    },
    {
      "cell_type": "code",
      "execution_count": 209,
      "metadata": {},
      "outputs": [],
      "source": [
        "X = sm.add_constant(x)\n",
        "\n",
        "ols_result = sm.OLS(y,X).fit().summary()"
      ]
    },
    {
      "cell_type": "markdown",
      "metadata": {},
      "source": [
        "<h4><b>1.4 Maximum Likelihood</h4>"
      ]
    },
    {
      "cell_type": "markdown",
      "metadata": {},
      "source": [
        "<h5> 1.4.1"
      ]
    },
    {
      "cell_type": "code",
      "execution_count": 210,
      "metadata": {},
      "outputs": [],
      "source": [
        "def maxlik(params):\n",
        "  intercept, beta, sd = params[0], params[1], params[2]\n",
        "  yhat = intercept + beta * x\n",
        "  l = -np.sum(stats.norm.logpdf(y, loc=yhat, scale=sd))\n",
        "  return l\n"
      ]
    },
    {
      "cell_type": "code",
      "execution_count": 211,
      "metadata": {},
      "outputs": [
        {
          "name": "stdout",
          "output_type": "stream",
          "text": [
            "Optimization terminated successfully.\n",
            "         Current function value: 69.783224\n",
            "         Iterations: 95\n",
            "         Function evaluations: 178\n"
          ]
        }
      ],
      "source": [
        "initial_guess = np.array([5,5,5]) #random initial guess\n",
        "results = minimize(maxlik, initial_guess, method = 'Nelder-Mead', options={'disp': True})"
      ]
    },
    {
      "cell_type": "code",
      "execution_count": 212,
      "metadata": {},
      "outputs": [
        {
          "name": "stdout",
          "output_type": "stream",
          "text": [
            " final_simplex: (array([[ 1.04469013, -0.32511822,  0.48619794],\n",
            "       [ 1.04471869, -0.32512356,  0.48624153],\n",
            "       [ 1.04464621, -0.32511916,  0.48621074],\n",
            "       [ 1.04461601, -0.3251058 ,  0.48620616]]), array([69.78322361, 69.78322381, 69.78322402, 69.78322403]))\n",
            "           fun: 69.78322360854852\n",
            "       message: 'Optimization terminated successfully.'\n",
            "          nfev: 178\n",
            "           nit: 95\n",
            "        status: 0\n",
            "       success: True\n",
            "             x: array([ 1.04469013, -0.32511822,  0.48619794])\n"
          ]
        }
      ],
      "source": [
        "print(results)"
      ]
    },
    {
      "cell_type": "code",
      "execution_count": 213,
      "metadata": {},
      "outputs": [
        {
          "data": {
            "image/png": "[encoded data removed]",
            "text/plain": [
              "<Figure size 432x288 with 1 Axes>"
            ]
          },
          "metadata": {
            "needs_background": "light"
          },
          "output_type": "display_data"
        }
      ],
      "source": [
        "plt.plot(x, y, 'o')\n",
        "plt.plot(x, results.x[0] + results.x[1] * x, 'r-')\n",
        "plt.show()\n"
      ]
    },
    {
      "cell_type": "markdown",
      "metadata": {},
      "source": [
        "<h5> 1.4.2"
      ]
    },
    {
      "cell_type": "code",
      "execution_count": 214,
      "metadata": {},
      "outputs": [
        {
          "name": "stdout",
          "output_type": "stream",
          "text": [
            "Least square:      1.0447\n",
            "Maximum likelihood: 1.0447\n"
          ]
        }
      ],
      "source": [
        "#print const from ols   \n",
        "print('Least square: ', ols_result.tables[1][1][1])\n",
        "\n",
        "\n",
        "#show maximum likelihood\n",
        "print('Maximum likelihood:', np.round(results.final_simplex[0][1][0], 4))\n"
      ]
    },
    {
      "cell_type": "markdown",
      "metadata": {},
      "source": [
        "<h5> 1.4.3"
      ]
    },
    {
      "cell_type": "code",
      "execution_count": 215,
      "metadata": {},
      "outputs": [],
      "source": [
        "def radial(x, xi, r):\n",
        "    return np.exp(-((x-xi)**2)/r**2)\n"
      ]
    },
    {
      "cell_type": "code",
      "execution_count": 216,
      "metadata": {},
      "outputs": [],
      "source": [
        "\n",
        "def likelihood(params, x, y):\n",
        "    y_hat = radial(x, params[0], params[1])\n",
        "    return np.sum(stats.norm.logpdf(y, loc=y_hat, scale=1))"
      ]
    },
    {
      "cell_type": "code",
      "execution_count": 217,
      "metadata": {},
      "outputs": [
        {
          "name": "stdout",
          "output_type": "stream",
          "text": [
            "r =  0.1 likelihood =  -121.17000435490135\n",
            "r =  0.15 likelihood =  -121.2857781330469\n",
            "r =  0.5 likelihood =  -120.51645547880068\n",
            "r =  1 likelihood =  -117.11682087057324\n"
          ]
        }
      ],
      "source": [
        "r = [0.1, 0.15, 0.5, 1]\n",
        "\n",
        "for i in r:\n",
        "    print('r = ', i, 'likelihood = ', likelihood([0, i], x, y))\n",
        "\n"
      ]
    },
    {
      "cell_type": "markdown",
      "metadata": {},
      "source": [
        "<h4><b>1.5 Regularized Least Square</h4>"
      ]
    },
    {
      "cell_type": "markdown",
      "metadata": {},
      "source": [
        "<h5> 1.5.2"
      ]
    },
    {
      "cell_type": "code",
      "execution_count": 218,
      "metadata": {},
      "outputs": [],
      "source": [
        "\n",
        "def rls(x, y, lam):\n",
        "\n",
        "    x = sm.add_constant(x)\n",
        "\n",
        "    inv = np.linalg.inv(np.dot(x.T, x) + lam * np.identity(x.shape[1]))\n",
        "\n",
        "    w = np.dot(np.dot(inv, x.T), y)\n",
        "    return w\n",
        "\n"
      ]
    },
    {
      "cell_type": "markdown",
      "metadata": {},
      "source": [
        "1.5.3"
      ]
    },
    {
      "cell_type": "code",
      "execution_count": 219,
      "metadata": {},
      "outputs": [
        {
          "data": {
            "image/png": "[encoded data removed]",
            "text/plain": [
              "<Figure size 432x288 with 1 Axes>"
            ]
          },
          "metadata": {
            "needs_background": "light"
          },
          "output_type": "display_data"
        }
      ],
      "source": [
        "p1 = data.iloc[:50]\n",
        "p2 = data.iloc[50:]\n",
        "\n",
        "plt.plot(p1['x'], p1['y'], 'bo')\n",
        "plt.plot(p2['x'], p2['y'], 'ro')\n",
        "plt.plot(x, np.sin(x), 'k-')\n",
        "plt.show()\n",
        "\n"
      ]
    },
    {
      "cell_type": "code",
      "execution_count": 220,
      "metadata": {},
      "outputs": [],
      "source": [
        "train = p1\n",
        "test = p2"
      ]
    },
    {
      "cell_type": "code",
      "execution_count": 221,
      "metadata": {},
      "outputs": [
        {
          "name": "stdout",
          "output_type": "stream",
          "text": [
            "lambda =  0.1 MSE =  0.936562269273229\n",
            "lambda =  0.15 MSE =  0.9448149301778725\n"
          ]
        }
      ],
      "source": [
        "r = [0.1, 0.15]\n",
        "\n",
        "for i in r:\n",
        "\n",
        "    w = rls(train['x'], train['y'], i)\n",
        "\n",
        "    y_hat = w[0] + w[1] * test['x']\n",
        "\n",
        "    mse = np.mean((test['y'] - y_hat)**2)\n",
        "    print('lambda = ', i, 'MSE = ', mse)\n",
        "\n"
      ]
    },
    {
      "cell_type": "markdown",
      "metadata": {},
      "source": [
        "<h5> 1.5.4"
      ]
    },
    {
      "cell_type": "code",
      "execution_count": 222,
      "metadata": {},
      "outputs": [
        {
          "data": {
            "image/png": "[encoded data removed]",
            "text/plain": [
              "<Figure size 432x288 with 1 Axes>"
            ]
          },
          "metadata": {
            "needs_background": "light"
          },
          "output_type": "display_data"
        }
      ],
      "source": [
        "w = rls(data['x'], data['y'], 0.1)\n",
        "y_hat = w[0] + w[1] * data['x']\n",
        "\n",
        "plt.plot(data['x'], data['y'], 'o')\n",
        "plt.plot(data['x'], y_hat, 'r-')\n",
        "plt.show()\n"
      ]
    },
    {
      "cell_type": "markdown",
      "metadata": {},
      "source": [
        "<h3><b>Kalman Filter Extended and Monte Carlo Integration </h3>"
      ]
    },
    {
      "cell_type": "code",
      "execution_count": 241,
      "metadata": {},
      "outputs": [
        {
          "ename": "TypeError",
          "evalue": "ekf_update() takes from 4 to 5 positional arguments but 6 were given",
          "output_type": "error",
          "traceback": [
            "\u001b[0;31m---------------------------------------------------------------------------\u001b[0m",
            "\u001b[0;31mTypeError\u001b[0m                                 Traceback (most recent call last)",
            "\u001b[1;32m/Users/nilufarkhaydarova/Downloads/homework.ipynb Cell 32\u001b[0m in \u001b[0;36m<cell line: 102>\u001b[0;34m()\u001b[0m\n\u001b[1;32m     <a href='vscode-notebook-cell:/Users/nilufarkhaydarova/Downloads/homework.ipynb#X65sZmlsZQ%3D%3D?line=98'>99</a>\u001b[0m     plt\u001b[39m.\u001b[39mshow()\n\u001b[1;32m    <a href='vscode-notebook-cell:/Users/nilufarkhaydarova/Downloads/homework.ipynb#X65sZmlsZQ%3D%3D?line=100'>101</a>\u001b[0m (x, y) \u001b[39m=\u001b[39m generate_data()\n\u001b[0;32m--> <a href='vscode-notebook-cell:/Users/nilufarkhaydarova/Downloads/homework.ipynb#X65sZmlsZQ%3D%3D?line=101'>102</a>\u001b[0m (x_est, P_est) \u001b[39m=\u001b[39m run_ekf(x, y, \u001b[39m0.01\u001b[39;49m, \u001b[39m0.02\u001b[39;49m)\n\u001b[1;32m    <a href='vscode-notebook-cell:/Users/nilufarkhaydarova/Downloads/homework.ipynb#X65sZmlsZQ%3D%3D?line=102'>103</a>\u001b[0m plot_results(x, y, x_est, P_est, \u001b[39m'\u001b[39m\u001b[39mExtended Kalman Filter\u001b[39m\u001b[39m'\u001b[39m)\n\u001b[1;32m    <a href='vscode-notebook-cell:/Users/nilufarkhaydarova/Downloads/homework.ipynb#X65sZmlsZQ%3D%3D?line=104'>105</a>\u001b[0m (x_est, P_est) \u001b[39m=\u001b[39m run_taylor_ekf(x, y, \u001b[39m0.01\u001b[39m, \u001b[39m0.02\u001b[39m)\n",
            "\u001b[1;32m/Users/nilufarkhaydarova/Downloads/homework.ipynb Cell 32\u001b[0m in \u001b[0;36mrun_ekf\u001b[0;34m(x, y, Q, R)\u001b[0m\n\u001b[1;32m     <a href='vscode-notebook-cell:/Users/nilufarkhaydarova/Downloads/homework.ipynb#X65sZmlsZQ%3D%3D?line=75'>76</a>\u001b[0m P_est[\u001b[39m0\u001b[39m] \u001b[39m=\u001b[39m \u001b[39m1.0\u001b[39m\n\u001b[1;32m     <a href='vscode-notebook-cell:/Users/nilufarkhaydarova/Downloads/homework.ipynb#X65sZmlsZQ%3D%3D?line=76'>77</a>\u001b[0m \u001b[39mfor\u001b[39;00m k \u001b[39min\u001b[39;00m \u001b[39mrange\u001b[39m(\u001b[39m1\u001b[39m, N):\n\u001b[0;32m---> <a href='vscode-notebook-cell:/Users/nilufarkhaydarova/Downloads/homework.ipynb#X65sZmlsZQ%3D%3D?line=77'>78</a>\u001b[0m     (x_est[k], P_est[k]) \u001b[39m=\u001b[39m ekf(x_est[k\u001b[39m-\u001b[39;49m\u001b[39m1\u001b[39;49m], P_est[k\u001b[39m-\u001b[39;49m\u001b[39m1\u001b[39;49m], y[k], Q, R)\n\u001b[1;32m     <a href='vscode-notebook-cell:/Users/nilufarkhaydarova/Downloads/homework.ipynb#X65sZmlsZQ%3D%3D?line=78'>79</a>\u001b[0m \u001b[39mreturn\u001b[39;00m (x_est, P_est)\n",
            "\u001b[1;32m/Users/nilufarkhaydarova/Downloads/homework.ipynb Cell 32\u001b[0m in \u001b[0;36mekf\u001b[0;34m(x, P, y, Q, R, dt)\u001b[0m\n\u001b[1;32m     <a href='vscode-notebook-cell:/Users/nilufarkhaydarova/Downloads/homework.ipynb#X65sZmlsZQ%3D%3D?line=55'>56</a>\u001b[0m \u001b[39mdef\u001b[39;00m \u001b[39mekf\u001b[39m(x, P, y, Q, R, dt\u001b[39m=\u001b[39m\u001b[39m1\u001b[39m):\n\u001b[1;32m     <a href='vscode-notebook-cell:/Users/nilufarkhaydarova/Downloads/homework.ipynb#X65sZmlsZQ%3D%3D?line=56'>57</a>\u001b[0m     (x, P) \u001b[39m=\u001b[39m ekf_predict(x, P, Q, R, dt)\n\u001b[0;32m---> <a href='vscode-notebook-cell:/Users/nilufarkhaydarova/Downloads/homework.ipynb#X65sZmlsZQ%3D%3D?line=57'>58</a>\u001b[0m     (x, P) \u001b[39m=\u001b[39m ekf_update(x, P, y, Q, R, dt)\n\u001b[1;32m     <a href='vscode-notebook-cell:/Users/nilufarkhaydarova/Downloads/homework.ipynb#X65sZmlsZQ%3D%3D?line=58'>59</a>\u001b[0m     \u001b[39mreturn\u001b[39;00m (x, P)\n",
            "\u001b[0;31mTypeError\u001b[0m: ekf_update() takes from 4 to 5 positional arguments but 6 were given"
          ]
        }
      ],
      "source": [
        "#non linear space model\n",
        "\n",
        "#rk ~ N(0, 0.02)\n",
        "#q k-1 ~ N(0, 0.01^2)\n",
        "#xk = xk-1 - 0.01 * sin(xk-1) + qk-1\n",
        "#yk = 0.5 * sin(2 * xk) + rk\n",
        "#taylor and non taylor extended kalman filter for this model \n",
        "\n",
        "def f(x, dt):\n",
        "    return x - 0.01 * np.sin(x)\n",
        "\n",
        "def h(x):\n",
        "    return 0.5 * np.sin(2 * x)\n",
        "\n",
        "def Fx(x, dt):\n",
        "    return 1 - 0.01 * np.cos(x)\n",
        "\n",
        "def Fv(x, dt):\n",
        "    return 0\n",
        "\n",
        "def Hx(x):\n",
        "    return 2 * np.cos(2 * x)\n",
        "\n",
        "def Hv(x):\n",
        "    return 0\n",
        "\n",
        "def ekf_predict(x, P, Q, R, dt=1):\n",
        "    x = f(x, dt)\n",
        "    P = Fx(x, dt) * P * Fx(x, dt) + Fv(x, dt) * Q * Fv(x, dt)\n",
        "    return (x, P)\n",
        "\n",
        "def ekf_update(x, P, y, R, dt=1):\n",
        "    S = Hx(x) * P * Hx(x) + Hv(x) * R * Hv(x)\n",
        "    K = P * Hx(x) * np.linalg.inv(S)\n",
        "    x = x + K * (y - h(x))\n",
        "    P = (np.identity(len(x)) - K * Hx(x)) * P\n",
        "    return (x, P)\n",
        "\n",
        "def taylor_ekf_predict(x, P, Q, R, dt=1):\n",
        "    x = f(x, dt)\n",
        "    P = Fx(x, dt) * P * Fx(x, dt) + Fv(x, dt) * Q * Fv(x, dt)\n",
        "    return (x, P)\n",
        "\n",
        "def taylor_ekf_update(x, P, y, R, dt=1):\n",
        "    S = Hx(x) * P * Hx(x) + Hv(x) * R * Hv(x)\n",
        "    K = P * Hx(x) * np.linalg.inv(S)\n",
        "    x = x + K * (y - h(x))\n",
        "    P = (np.identity(len(x)) - K * Hx(x)) * P\n",
        "    return (x, P)\n",
        "\n",
        "def taylor_ekf(x, P, y, Q, R, dt=1):\n",
        "    (x, P) = taylor_ekf_predict(x, P, Q, R, dt)\n",
        "    (x, P) = taylor_ekf_update(x, P, y, Q, R, dt)\n",
        "    return (x, P)\n",
        "\n",
        "def ekf(x, P, y, Q, R, dt=1):\n",
        "    (x, P) = ekf_predict(x, P, Q, R, dt)\n",
        "    (x, P) = ekf_update(x, P, y, Q, R, dt)\n",
        "    return (x, P)\n",
        "\n",
        "def generate_data(N=100):\n",
        "    x = np.zeros(N)\n",
        "    y = np.zeros(N)\n",
        "    x[0] = np.random.normal(0, 0.1)\n",
        "    y[0] = np.random.normal(h(x[0]), 0.02)\n",
        "    for k in range(1, N):\n",
        "        x[k] = np.random.normal(f(x[k-1], dt=1), 0.01)\n",
        "        y[k] = np.random.normal(h(x[k]), 0.02)\n",
        "    return (x, y)\n",
        "\n",
        "def run_ekf(x, y, Q, R):\n",
        "    N = len(x)\n",
        "    x_est = np.zeros(N)\n",
        "    P_est = np.zeros(N)\n",
        "    x_est[0] = 0.0\n",
        "    P_est[0] = 1.0\n",
        "    for k in range(1, N):\n",
        "        (x_est[k], P_est[k]) = ekf(x_est[k-1], P_est[k-1], y[k], Q, R)\n",
        "    return (x_est, P_est)\n",
        "\n",
        "def run_taylor_ekf(x, y, Q, R):\n",
        "    N = len(x)\n",
        "    x_est = np.zeros(N)\n",
        "    P_est = np.zeros(N)\n",
        "    x_est[0] = 0.0\n",
        "    P_est[0] = 1.0\n",
        "    for k in range(1, N):\n",
        "        (x_est[k], P_est[k]) = taylor_ekf(x_est[k-1], P_est[k-1], y[k], Q, R)\n",
        "    return (x_est, P_est)\n",
        "\n",
        "def plot_results(x, y, x_est, P_est, title):\n",
        "    plt.figure()\n",
        "    plt.plot(x, 'b-', label='x')\n",
        "    plt.plot(y, 'g.', label='y')\n",
        "    plt.plot(x_est, 'r-', label='x_est')\n",
        "    plt.plot(P_est, 'k-', label='P_est')\n",
        "    plt.legend()\n",
        "    plt.title(title)\n",
        "    plt.show()\n",
        "\n",
        "(x, y) = generate_data()\n",
        "(x_est, P_est) = run_ekf(x, y, 0.01, 0.02)\n",
        "plot_results(x, y, x_est, P_est, 'Extended Kalman Filter')\n",
        "\n",
        "(x_est, P_est) = run_taylor_ekf(x, y, 0.01, 0.02)\n",
        "plot_results(x, y, x_est, P_est, 'Taylor Series Extended Kalman Filter')\n",
        "\n",
        "\n",
        "\n",
        "\n"
      ]
    },
    {
      "cell_type": "code",
      "execution_count": null,
      "metadata": {},
      "outputs": [],
      "source": []
    }
  ],
  "metadata": {
    "colab": {
      "provenance": []
    },
    "kernelspec": {
      "display_name": "Python 3.9.12 ('work')",
      "language": "python",
      "name": "python3"
    },
    "language_info": {
      "codemirror_mode": {
        "name": "ipython",
        "version": 3
      },
      "file_extension": ".py",
      "mimetype": "text/x-python",
      "name": "python",
      "nbconvert_exporter": "python",
      "pygments_lexer": "ipython3",
      "version": "3.9.12"
    },
    "vscode": {
      "interpreter": {
        "hash": "ecaff3a71f2cdf6f8dc8ead0fbca7a0251a4dbc67106ac14fa43366415a864a5"
      }
    }
  },
  "nbformat": 4,
  "nbformat_minor": 0
}
